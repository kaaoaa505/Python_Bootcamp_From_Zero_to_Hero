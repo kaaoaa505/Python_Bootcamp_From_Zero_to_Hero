{
 "cells": [
  {
   "cell_type": "code",
   "execution_count": 2,
   "metadata": {},
   "outputs": [
    {
     "data": {
      "text/plain": [
       "'/home/test/Documents/Python_Bootcamp_From_Zero_to_Hero/14_Advanced_Modules'"
      ]
     },
     "execution_count": 2,
     "metadata": {},
     "output_type": "execute_result"
    }
   ],
   "source": [
    "pwd"
   ]
  },
  {
   "cell_type": "code",
   "execution_count": 3,
   "metadata": {},
   "outputs": [],
   "source": [
    "f = open('004_01.txt', 'w+')\n",
    "f.write('Just for test')\n",
    "f.close()"
   ]
  },
  {
   "cell_type": "code",
   "execution_count": 4,
   "metadata": {},
   "outputs": [
    {
     "data": {
      "text/plain": [
       "'/home/test/Documents/Python_Bootcamp_From_Zero_to_Hero/14_Advanced_Modules'"
      ]
     },
     "execution_count": 4,
     "metadata": {},
     "output_type": "execute_result"
    }
   ],
   "source": [
    "import os\n",
    "\n",
    "os.getcwd()"
   ]
  },
  {
   "cell_type": "code",
   "execution_count": 5,
   "metadata": {},
   "outputs": [
    {
     "data": {
      "text/plain": [
       "['003_named_typle.ipynb',\n",
       " '002_Default_Dict.ipynb',\n",
       " '004_Dir_Path_Files.ipynb',\n",
       " '001_Counter.ipynb',\n",
       " '004_01.txt']"
      ]
     },
     "execution_count": 5,
     "metadata": {},
     "output_type": "execute_result"
    }
   ],
   "source": [
    "os.listdir()"
   ]
  },
  {
   "cell_type": "code",
   "execution_count": 6,
   "metadata": {},
   "outputs": [
    {
     "data": {
      "text/plain": [
       "['root',\n",
       " 'swap.img',\n",
       " 'etc',\n",
       " 'cdrom',\n",
       " 'sbin',\n",
       " 'srv',\n",
       " 'sys',\n",
       " 'run',\n",
       " 'opt',\n",
       " 'boot',\n",
       " 'proc',\n",
       " 'mnt',\n",
       " 'lost+found',\n",
       " 'lib64',\n",
       " 'media',\n",
       " 'usr',\n",
       " 'dev',\n",
       " 'bin.usr-is-merged',\n",
       " 'bin',\n",
       " 'lib.usr-is-merged',\n",
       " 'lib',\n",
       " 'var',\n",
       " 'tmp',\n",
       " 'home',\n",
       " 'sbin.usr-is-merged',\n",
       " 'lib32',\n",
       " 'snap']"
      ]
     },
     "execution_count": 6,
     "metadata": {},
     "output_type": "execute_result"
    }
   ],
   "source": [
    "os.listdir('/')"
   ]
  },
  {
   "cell_type": "code",
   "execution_count": null,
   "metadata": {},
   "outputs": [],
   "source": []
  }
 ],
 "metadata": {
  "kernelspec": {
   "display_name": "base",
   "language": "python",
   "name": "python3"
  },
  "language_info": {
   "codemirror_mode": {
    "name": "ipython",
    "version": 3
   },
   "file_extension": ".py",
   "mimetype": "text/x-python",
   "name": "python",
   "nbconvert_exporter": "python",
   "pygments_lexer": "ipython3",
   "version": "3.12.7"
  }
 },
 "nbformat": 4,
 "nbformat_minor": 2
}
