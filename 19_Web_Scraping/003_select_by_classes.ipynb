{
 "cells": [
  {
   "cell_type": "code",
   "execution_count": 47,
   "metadata": {},
   "outputs": [],
   "source": [
    "import requests\n",
    "import bs4"
   ]
  },
  {
   "cell_type": "code",
   "execution_count": 48,
   "metadata": {},
   "outputs": [],
   "source": [
    "result = requests.get('https://blog.google/?utm_source=about&utm_medium=referral&utm_campaign=footer-link')"
   ]
  },
  {
   "cell_type": "code",
   "execution_count": 49,
   "metadata": {},
   "outputs": [],
   "source": [
    "soup = bs4.BeautifulSoup(result.text, 'lxml')"
   ]
  },
  {
   "cell_type": "code",
   "execution_count": 50,
   "metadata": {},
   "outputs": [
    {
     "data": {
      "text/plain": [
       "[<span class=\"collection-component__card-title-text\">\n",
       "                             Introducing Gemini 2.0: our new AI model for the agentic era\n",
       "                           </span>,\n",
       " <span class=\"collection-component__card-title-text\">\n",
       "                             Try Deep Research and new experimental models in Gemini\n",
       "                           </span>,\n",
       " <span class=\"collection-component__card-title-text\">\n",
       "                             Trillium, our sixth-generation TPU, is now generally available\n",
       "                           </span>,\n",
       " <span class=\"collection-component__card-title-text\">\n",
       "                             8 ways I use Google Home for cozy, festive holiday vibes\n",
       "                           </span>,\n",
       " <span class=\"collection-component__card-title-text\">\n",
       "                             How I’m using Pixel to create my holiday card\n",
       "                           </span>,\n",
       " <span class=\"collection-component__card-title-text\">\n",
       "                             Try these 4 tips for easier last-minute shopping\n",
       "                           </span>]"
      ]
     },
     "execution_count": 50,
     "metadata": {},
     "output_type": "execute_result"
    }
   ],
   "source": [
    "soup.select('.collection-component__card-title-text')"
   ]
  },
  {
   "cell_type": "code",
   "execution_count": 51,
   "metadata": {},
   "outputs": [
    {
     "data": {
      "text/plain": [
       "'\\n                            Introducing Gemini 2.0: our new AI model for the agentic era\\n                          '"
      ]
     },
     "execution_count": 51,
     "metadata": {},
     "output_type": "execute_result"
    }
   ],
   "source": [
    "soup.select('.collection-component__card-title-text')[0].text"
   ]
  },
  {
   "cell_type": "code",
   "execution_count": 52,
   "metadata": {},
   "outputs": [
    {
     "name": "stdout",
     "output_type": "stream",
     "text": [
      "\n",
      "                            Introducing Gemini 2.0: our new AI model for the agentic era\n",
      "                          \n",
      "\n",
      "                            Try Deep Research and new experimental models in Gemini\n",
      "                          \n",
      "\n",
      "                            Trillium, our sixth-generation TPU, is now generally available\n",
      "                          \n",
      "\n",
      "                            8 ways I use Google Home for cozy, festive holiday vibes\n",
      "                          \n",
      "\n",
      "                            How I’m using Pixel to create my holiday card\n",
      "                          \n",
      "\n",
      "                            Try these 4 tips for easier last-minute shopping\n",
      "                          \n"
     ]
    }
   ],
   "source": [
    "for item in soup.select('.collection-component__card-title-text'):\n",
    "    print(item.text)"
   ]
  }
 ],
 "metadata": {
  "kernelspec": {
   "display_name": "base",
   "language": "python",
   "name": "python3"
  },
  "language_info": {
   "codemirror_mode": {
    "name": "ipython",
    "version": 3
   },
   "file_extension": ".py",
   "mimetype": "text/x-python",
   "name": "python",
   "nbconvert_exporter": "python",
   "pygments_lexer": "ipython3",
   "version": "3.12.7"
  }
 },
 "nbformat": 4,
 "nbformat_minor": 2
}
