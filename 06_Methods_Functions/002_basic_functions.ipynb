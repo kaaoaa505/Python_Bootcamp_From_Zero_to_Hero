{
 "cells": [
  {
   "cell_type": "code",
   "execution_count": 7,
   "metadata": {},
   "outputs": [],
   "source": [
    "def SayHello():\n",
    "    \"\"\"\n",
    "    This function takes a name as input and returns a greeting message.\n",
    "    \n",
    "    Parameters:\n",
    "    name (str): The name of the person to greet.\n",
    "    \n",
    "    Returns:\n",
    "    str: A greeting message.\n",
    "    \n",
    "    Example:\n",
    "    >>> greet('Alice')\n",
    "    'Hello, Alice!'\n",
    "    \"\"\"\n",
    "    return 'Hello World!.'"
   ]
  },
  {
   "cell_type": "code",
   "execution_count": 8,
   "metadata": {},
   "outputs": [
    {
     "data": {
      "text/plain": [
       "'Hello World!.'"
      ]
     },
     "execution_count": 8,
     "metadata": {},
     "output_type": "execute_result"
    }
   ],
   "source": [
    "SayHello()"
   ]
  },
  {
   "cell_type": "code",
   "execution_count": 9,
   "metadata": {},
   "outputs": [
    {
     "name": "stdout",
     "output_type": "stream",
     "text": [
      "Help on function SayHello in module __main__:\n",
      "\n",
      "SayHello()\n",
      "    This function takes a name as input and returns a greeting message.\n",
      "\n",
      "    Parameters:\n",
      "    name (str): The name of the person to greet.\n",
      "\n",
      "    Returns:\n",
      "    str: A greeting message.\n",
      "\n",
      "    Example:\n",
      "    >>> greet('Alice')\n",
      "    'Hello, Alice!'\n",
      "\n"
     ]
    }
   ],
   "source": [
    "help(SayHello)"
   ]
  },
  {
   "cell_type": "code",
   "execution_count": 10,
   "metadata": {},
   "outputs": [],
   "source": [
    "def SayWelcome(name):\n",
    "    \"\"\"\n",
    "    This function takes a name as input and returns a welcome message.\n",
    "    \n",
    "    Parameters:\n",
    "    name (str): The name of the person to welcome.\n",
    "    \n",
    "    Returns:\n",
    "    str: A welecome message.\n",
    "    \n",
    "    Example:\n",
    "    >>> SayWelcome('Khaled')\n",
    "    'Welcome, Khaled!'\n",
    "    \"\"\"\n",
    "\n",
    "    return f'Welcome, {name}!.'"
   ]
  },
  {
   "cell_type": "code",
   "execution_count": 11,
   "metadata": {},
   "outputs": [
    {
     "data": {
      "text/plain": [
       "'Welcome, Khald Allam Ahmed!.'"
      ]
     },
     "execution_count": 11,
     "metadata": {},
     "output_type": "execute_result"
    }
   ],
   "source": [
    "SayWelcome('Khald Allam Ahmed')"
   ]
  },
  {
   "cell_type": "code",
   "execution_count": 12,
   "metadata": {},
   "outputs": [
    {
     "name": "stdout",
     "output_type": "stream",
     "text": [
      "Help on function SayWelcome in module __main__:\n",
      "\n",
      "SayWelcome(name)\n",
      "    This function takes a name as input and returns a welcome message.\n",
      "\n",
      "    Parameters:\n",
      "    name (str): The name of the person to welcome.\n",
      "\n",
      "    Returns:\n",
      "    str: A welecome message.\n",
      "\n",
      "    Example:\n",
      "    >>> SayWelcome('Khaled')\n",
      "    'Welcome, Khaled!'\n",
      "\n"
     ]
    }
   ],
   "source": [
    "help(SayWelcome)"
   ]
  },
  {
   "cell_type": "code",
   "execution_count": 13,
   "metadata": {},
   "outputs": [
    {
     "data": {
      "text/plain": [
       "'Welcome, Khaled!.'"
      ]
     },
     "execution_count": 13,
     "metadata": {},
     "output_type": "execute_result"
    }
   ],
   "source": [
    "SayWelcome('Khaled')"
   ]
  },
  {
   "cell_type": "code",
   "execution_count": 14,
   "metadata": {},
   "outputs": [],
   "source": [
    "def SayWelcome(name='Default'):\n",
    "    return f'Welcome, {name}!.'"
   ]
  },
  {
   "cell_type": "code",
   "execution_count": 15,
   "metadata": {},
   "outputs": [
    {
     "name": "stdout",
     "output_type": "stream",
     "text": [
      "Help on function SayWelcome in module __main__:\n",
      "\n",
      "SayWelcome(name='Default')\n",
      "\n"
     ]
    }
   ],
   "source": [
    "help(SayWelcome)"
   ]
  },
  {
   "cell_type": "code",
   "execution_count": 16,
   "metadata": {},
   "outputs": [
    {
     "data": {
      "text/plain": [
       "'Welcome, Default!.'"
      ]
     },
     "execution_count": 16,
     "metadata": {},
     "output_type": "execute_result"
    }
   ],
   "source": [
    "SayWelcome()"
   ]
  },
  {
   "cell_type": "code",
   "execution_count": null,
   "metadata": {},
   "outputs": [],
   "source": []
  }
 ],
 "metadata": {
  "kernelspec": {
   "display_name": "base",
   "language": "python",
   "name": "python3"
  },
  "language_info": {
   "codemirror_mode": {
    "name": "ipython",
    "version": 3
   },
   "file_extension": ".py",
   "mimetype": "text/x-python",
   "name": "python",
   "nbconvert_exporter": "python",
   "pygments_lexer": "ipython3",
   "version": "3.12.7"
  }
 },
 "nbformat": 4,
 "nbformat_minor": 2
}
