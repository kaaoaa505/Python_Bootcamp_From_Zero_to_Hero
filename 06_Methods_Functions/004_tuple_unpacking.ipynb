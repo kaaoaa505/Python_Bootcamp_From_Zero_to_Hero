{
 "cells": [
  {
   "cell_type": "code",
   "execution_count": 50,
   "metadata": {},
   "outputs": [],
   "source": [
    "stock_prices_list = [('orange', 100), ('apple', 200), ('lemon', 600)]"
   ]
  },
  {
   "cell_type": "code",
   "execution_count": 51,
   "metadata": {},
   "outputs": [
    {
     "data": {
      "text/plain": [
       "[('orange', 100), ('apple', 200), ('lemon', 600)]"
      ]
     },
     "execution_count": 51,
     "metadata": {},
     "output_type": "execute_result"
    }
   ],
   "source": [
    "stock_prices_list"
   ]
  },
  {
   "cell_type": "code",
   "execution_count": 52,
   "metadata": {},
   "outputs": [
    {
     "name": "stdout",
     "output_type": "stream",
     "text": [
      "Name is: orange\n",
      "Price is: 100\n",
      "-----------\n",
      "Name is: apple\n",
      "Price is: 200\n",
      "-----------\n",
      "Name is: lemon\n",
      "Price is: 600\n",
      "-----------\n"
     ]
    }
   ],
   "source": [
    "for name, price in stock_prices_list:\n",
    "    print('Name is: '+name)\n",
    "    print('Price is: '+ str(price))\n",
    "    print('-----------')"
   ]
  },
  {
   "cell_type": "code",
   "execution_count": 53,
   "metadata": {},
   "outputs": [
    {
     "data": {
      "text/plain": [
       "('Ahmed', 700)"
      ]
     },
     "execution_count": 53,
     "metadata": {},
     "output_type": "execute_result"
    }
   ],
   "source": [
    "working_hours = [('khaled', 100), ('Allam', 400), ('Ahmed', 700)]\n",
    "\n",
    "def EmployeeOfTheMonth(working_hours):\n",
    "    current_max = 0\n",
    "    the_best = ''\n",
    "\n",
    "    for name, hours in working_hours:\n",
    "        if current_max < hours:\n",
    "            the_best = name\n",
    "            current_max = hours\n",
    "        else:\n",
    "            pass\n",
    "    \n",
    "    return (the_best, current_max)\n",
    "\n",
    "EmployeeOfTheMonth(working_hours)\n"
   ]
  },
  {
   "cell_type": "code",
   "execution_count": 54,
   "metadata": {},
   "outputs": [
    {
     "data": {
      "text/plain": [
       "[('khaled', 100), ('Allam', 400), ('Ahmed', 700)]"
      ]
     },
     "execution_count": 54,
     "metadata": {},
     "output_type": "execute_result"
    }
   ],
   "source": [
    "working_hours"
   ]
  },
  {
   "cell_type": "code",
   "execution_count": 55,
   "metadata": {},
   "outputs": [
    {
     "data": {
      "text/plain": [
       "('khaled', 900)"
      ]
     },
     "execution_count": 55,
     "metadata": {},
     "output_type": "execute_result"
    }
   ],
   "source": [
    "working_hours = [('khaled', 900), ('Allam', 400), ('Ahmed', 700)]\n",
    "EmployeeOfTheMonth(working_hours)"
   ]
  },
  {
   "cell_type": "code",
   "execution_count": null,
   "metadata": {},
   "outputs": [],
   "source": []
  }
 ],
 "metadata": {
  "kernelspec": {
   "display_name": "base",
   "language": "python",
   "name": "python3"
  },
  "language_info": {
   "codemirror_mode": {
    "name": "ipython",
    "version": 3
   },
   "file_extension": ".py",
   "mimetype": "text/x-python",
   "name": "python",
   "nbconvert_exporter": "python",
   "pygments_lexer": "ipython3",
   "version": "3.12.7"
  }
 },
 "nbformat": 4,
 "nbformat_minor": 2
}
