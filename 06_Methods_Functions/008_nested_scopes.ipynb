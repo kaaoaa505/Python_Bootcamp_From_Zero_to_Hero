{
 "cells": [
  {
   "cell_type": "code",
   "execution_count": 28,
   "metadata": {},
   "outputs": [
    {
     "name": "stdout",
     "output_type": "stream",
     "text": [
      "25\n",
      "33\n",
      "50\n",
      "123\n",
      "25\n",
      "33\n",
      "50\n",
      "123\n"
     ]
    }
   ],
   "source": [
    "x = 25\n",
    "y = 33\n",
    "\n",
    "def test():\n",
    "    #print(x) #error because it's defined in the local scope\n",
    "    print(y)\n",
    "\n",
    "    x = 50\n",
    "    print(x)\n",
    "\n",
    "    z = 123\n",
    "    print(z)\n",
    "    \n",
    "print(x)\n",
    "test()\n",
    "print(x)\n",
    "test()\n",
    "\n",
    "#print(z) #error because it's defined in the local scope but not in the global scope"
   ]
  },
  {
   "cell_type": "code",
   "execution_count": 29,
   "metadata": {},
   "outputs": [
    {
     "name": "stdout",
     "output_type": "stream",
     "text": [
      "500\n",
      "501\n",
      "501\n",
      "502\n",
      "502\n",
      "503\n"
     ]
    }
   ],
   "source": [
    "my_global_num = 500\n",
    "\n",
    "\n",
    "def change_my_global_num():\n",
    "    #BY USING global THIS CHANGE THE VALUE OF THE GLOBAL VARIABLE\n",
    "    global my_global_num\n",
    "\n",
    "    print(my_global_num)\n",
    "\n",
    "    my_global_num += 1\n",
    "    print(my_global_num)\n",
    "\n",
    "change_my_global_num()\n",
    "change_my_global_num()\n",
    "change_my_global_num()"
   ]
  },
  {
   "cell_type": "code",
   "execution_count": 31,
   "metadata": {},
   "outputs": [
    {
     "name": "stdout",
     "output_type": "stream",
     "text": [
      "500\n",
      "501\n",
      "500\n",
      "501\n",
      "500\n",
      "501\n"
     ]
    }
   ],
   "source": [
    "my_custom_num = 500\n",
    "\n",
    "\n",
    "def change_my_custom_num(my_custom_num):\n",
    "    print(my_custom_num)\n",
    "\n",
    "    my_custom_num += 1\n",
    "    print(my_custom_num)\n",
    "\n",
    "change_my_custom_num(my_custom_num)\n",
    "change_my_custom_num(my_custom_num)\n",
    "change_my_custom_num(my_custom_num)"
   ]
  },
  {
   "cell_type": "code",
   "execution_count": 33,
   "metadata": {},
   "outputs": [
    {
     "name": "stdout",
     "output_type": "stream",
     "text": [
      "500\n",
      "501\n",
      "501\n",
      "502\n",
      "502\n",
      "503\n"
     ]
    }
   ],
   "source": [
    "my_custom_num_v2 = 500\n",
    "\n",
    "\n",
    "def change_my_custom_num_v2(my_custom_num_v2):\n",
    "    print(my_custom_num_v2)\n",
    "\n",
    "    my_custom_num_v2 += 1\n",
    "    print(my_custom_num_v2)\n",
    "    return my_custom_num_v2\n",
    "\n",
    "my_custom_num_v2 = change_my_custom_num_v2(my_custom_num_v2)\n",
    "my_custom_num_v2 = change_my_custom_num_v2(my_custom_num_v2)\n",
    "my_custom_num_v2 = change_my_custom_num_v2(my_custom_num_v2)"
   ]
  },
  {
   "cell_type": "code",
   "execution_count": null,
   "metadata": {},
   "outputs": [],
   "source": []
  }
 ],
 "metadata": {
  "kernelspec": {
   "display_name": "base",
   "language": "python",
   "name": "python3"
  },
  "language_info": {
   "codemirror_mode": {
    "name": "ipython",
    "version": 3
   },
   "file_extension": ".py",
   "mimetype": "text/x-python",
   "name": "python",
   "nbconvert_exporter": "python",
   "pygments_lexer": "ipython3",
   "version": "3.12.7"
  }
 },
 "nbformat": 4,
 "nbformat_minor": 2
}
