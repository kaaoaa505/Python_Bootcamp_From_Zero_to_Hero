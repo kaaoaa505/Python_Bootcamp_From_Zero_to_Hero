{
 "cells": [
  {
   "cell_type": "code",
   "execution_count": 21,
   "metadata": {},
   "outputs": [],
   "source": [
    "def my_fun(*args):\n",
    "    #return 5% of the sum of a & b\n",
    "    print(args)\n",
    "    return sum(args) * 0.05\n",
    "    "
   ]
  },
  {
   "cell_type": "code",
   "execution_count": 22,
   "metadata": {},
   "outputs": [
    {
     "name": "stdout",
     "output_type": "stream",
     "text": [
      "(1, 0)\n"
     ]
    },
    {
     "data": {
      "text/plain": [
       "0.05"
      ]
     },
     "execution_count": 22,
     "metadata": {},
     "output_type": "execute_result"
    }
   ],
   "source": [
    "my_fun(1,0)"
   ]
  },
  {
   "cell_type": "code",
   "execution_count": 23,
   "metadata": {},
   "outputs": [
    {
     "name": "stdout",
     "output_type": "stream",
     "text": [
      "(1, 0, 0, 99)\n"
     ]
    },
    {
     "data": {
      "text/plain": [
       "5.0"
      ]
     },
     "execution_count": 23,
     "metadata": {},
     "output_type": "execute_result"
    }
   ],
   "source": [
    "my_fun(1,0,0,99)"
   ]
  },
  {
   "cell_type": "code",
   "execution_count": 24,
   "metadata": {},
   "outputs": [
    {
     "name": "stdout",
     "output_type": "stream",
     "text": [
      "(900, 1, 0, 99)\n"
     ]
    },
    {
     "data": {
      "text/plain": [
       "50.0"
      ]
     },
     "execution_count": 24,
     "metadata": {},
     "output_type": "execute_result"
    }
   ],
   "source": [
    "my_fun(900,1,0,99)"
   ]
  },
  {
   "cell_type": "code",
   "execution_count": 25,
   "metadata": {},
   "outputs": [],
   "source": [
    "def my_fun(**kwargs):\n",
    "    print(type(kwargs))\n",
    "    print(kwargs)\n",
    "    print(kwargs.items())\n",
    "    print(kwargs.keys())\n",
    "    print(kwargs.values())\n",
    "\n",
    "    for k,v in kwargs.items():\n",
    "        print(k)\n",
    "        print(v)\n",
    "        print('-------')\n",
    "    "
   ]
  },
  {
   "cell_type": "code",
   "execution_count": 26,
   "metadata": {},
   "outputs": [
    {
     "name": "stdout",
     "output_type": "stream",
     "text": [
      "<class 'dict'>\n",
      "{'k1': 'v1', 'k2': 'v2', 'k3': 'v3'}\n",
      "dict_items([('k1', 'v1'), ('k2', 'v2'), ('k3', 'v3')])\n",
      "dict_keys(['k1', 'k2', 'k3'])\n",
      "dict_values(['v1', 'v2', 'v3'])\n",
      "k1\n",
      "v1\n",
      "-------\n",
      "k2\n",
      "v2\n",
      "-------\n",
      "k3\n",
      "v3\n",
      "-------\n"
     ]
    }
   ],
   "source": [
    "my_fun(k1='v1', k2='v2', k3='v3')"
   ]
  },
  {
   "cell_type": "code",
   "execution_count": 27,
   "metadata": {},
   "outputs": [],
   "source": [
    "def my_fun(*args, **kwargs):\n",
    "    print(args)\n",
    "    print('--------')\n",
    "\n",
    "    print(type(kwargs))\n",
    "    print(kwargs)\n",
    "    print(kwargs.items())\n",
    "    print(kwargs.keys())\n",
    "    print(kwargs.values())"
   ]
  },
  {
   "cell_type": "code",
   "execution_count": 28,
   "metadata": {},
   "outputs": [
    {
     "name": "stdout",
     "output_type": "stream",
     "text": [
      "('test', 'dev', '')\n",
      "--------\n",
      "<class 'dict'>\n",
      "{'k1': 'v1', 'k2': 'v2', 'k3': 'v3'}\n",
      "dict_items([('k1', 'v1'), ('k2', 'v2'), ('k3', 'v3')])\n",
      "dict_keys(['k1', 'k2', 'k3'])\n",
      "dict_values(['v1', 'v2', 'v3'])\n"
     ]
    }
   ],
   "source": [
    "my_fun('test', 'dev', '', k1='v1', k2='v2', k3='v3')"
   ]
  },
  {
   "cell_type": "code",
   "execution_count": null,
   "metadata": {},
   "outputs": [],
   "source": []
  }
 ],
 "metadata": {
  "kernelspec": {
   "display_name": "base",
   "language": "python",
   "name": "python3"
  },
  "language_info": {
   "codemirror_mode": {
    "name": "ipython",
    "version": 3
   },
   "file_extension": ".py",
   "mimetype": "text/x-python",
   "name": "python",
   "nbconvert_exporter": "python",
   "pygments_lexer": "ipython3",
   "version": "3.12.7"
  }
 },
 "nbformat": 4,
 "nbformat_minor": 2
}
