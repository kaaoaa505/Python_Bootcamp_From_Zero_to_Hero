{
 "cells": [
  {
   "cell_type": "code",
   "execution_count": 12,
   "metadata": {},
   "outputs": [
    {
     "name": "stdout",
     "output_type": "stream",
     "text": [
      "LayoutView\n",
      "AccordionView\n",
      "AudioView\n",
      "FloatTextView\n",
      "IntTextView\n",
      "BoxView\n",
      "ButtonView\n",
      "StyleView\n",
      "CheckboxView\n",
      "ColorPickerView\n",
      "ComboboxView\n",
      "ControllerAxisView\n",
      "ControllerButtonView\n",
      "ControllerView\n",
      "None\n",
      "DatePickerView\n",
      "StyleView\n",
      "None\n",
      "DropdownView\n",
      "FileUploadView\n",
      "FloatLogSliderView\n",
      "ProgressView\n",
      "FloatRangeSliderView\n",
      "FloatSliderView\n",
      "FloatTextView\n",
      "GridBoxView\n",
      "HBoxView\n",
      "HTMLMathView\n",
      "HTMLView\n",
      "ImageView\n",
      "ProgressView\n",
      "IntRangeSliderView\n",
      "IntSliderView\n",
      "IntTextView\n",
      "LabelView\n",
      "None\n",
      "PasswordView\n",
      "PlayView\n",
      "StyleView\n",
      "RadioButtonsView\n",
      "SelectView\n",
      "SelectMultipleView\n",
      "SelectionRangeSliderView\n",
      "SelectionSliderView\n",
      "StyleView\n",
      "TabView\n",
      "TextView\n",
      "TextareaView\n",
      "ToggleButtonView\n",
      "ToggleButtonsView\n",
      "StyleView\n",
      "VBoxView\n",
      "ValidView\n",
      "VideoView\n",
      "OutputView\n"
     ]
    }
   ],
   "source": [
    "import ipywidgets as widgets\n",
    "\n",
    "# Show all available widget types\n",
    "for item in widgets.Widget.widget_types.items():\n",
    "    print(item[0][5])\n"
   ]
  },
  {
   "cell_type": "code",
   "execution_count": null,
   "metadata": {},
   "outputs": [],
   "source": []
  }
 ],
 "metadata": {
  "kernelspec": {
   "display_name": "base",
   "language": "python",
   "name": "python3"
  },
  "language_info": {
   "codemirror_mode": {
    "name": "ipython",
    "version": 3
   },
   "file_extension": ".py",
   "mimetype": "text/x-python",
   "name": "python",
   "nbconvert_exporter": "python",
   "pygments_lexer": "ipython3",
   "version": "3.12.7"
  }
 },
 "nbformat": 4,
 "nbformat_minor": 2
}
