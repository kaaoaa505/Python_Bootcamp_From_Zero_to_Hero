{
 "cells": [
  {
   "cell_type": "code",
   "execution_count": 21,
   "metadata": {},
   "outputs": [],
   "source": [
    "import timeit"
   ]
  },
  {
   "cell_type": "code",
   "execution_count": 32,
   "metadata": {},
   "outputs": [
    {
     "data": {
      "text/plain": [
       "0.8968064780001441"
      ]
     },
     "execution_count": 32,
     "metadata": {},
     "output_type": "execute_result"
    }
   ],
   "source": [
    "setup = '''\n",
    "def nums_to_str_v01(n=10):\n",
    "    return [str(num) for num in range(n)]\n",
    "'''\n",
    "\n",
    "stmt = '''\n",
    "nums_to_str_v01(n=10)\n",
    "'''\n",
    "\n",
    "timeit.timeit(stmt,setup, number=1000000)"
   ]
  },
  {
   "cell_type": "code",
   "execution_count": 34,
   "metadata": {},
   "outputs": [
    {
     "data": {
      "text/plain": [
       "1.620690982999804"
      ]
     },
     "execution_count": 34,
     "metadata": {},
     "output_type": "execute_result"
    }
   ],
   "source": [
    "setup = '''\n",
    "def nums_to_str_v02(n):\n",
    "    return list(map(str, range(n)))\n",
    "'''\n",
    "\n",
    "stmt = '''\n",
    "nums_to_str_v02(n=10)\n",
    "'''\n",
    "\n",
    "timeit.timeit(stmt,setup, number=1000000)\n"
   ]
  }
 ],
 "metadata": {
  "kernelspec": {
   "display_name": "base",
   "language": "python",
   "name": "python3"
  },
  "language_info": {
   "codemirror_mode": {
    "name": "ipython",
    "version": 3
   },
   "file_extension": ".py",
   "mimetype": "text/x-python",
   "name": "python",
   "nbconvert_exporter": "python",
   "pygments_lexer": "ipython3",
   "version": "3.12.7"
  }
 },
 "nbformat": 4,
 "nbformat_minor": 2
}
