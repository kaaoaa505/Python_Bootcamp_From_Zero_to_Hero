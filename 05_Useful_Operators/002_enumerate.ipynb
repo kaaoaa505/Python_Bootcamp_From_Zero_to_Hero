{
 "cells": [
  {
   "cell_type": "code",
   "execution_count": 2,
   "metadata": {},
   "outputs": [
    {
     "name": "stdout",
     "output_type": "stream",
     "text": [
      "(0, 'K')\n",
      "(1, 'h')\n",
      "(2, 'a')\n",
      "(3, 'l')\n",
      "(4, 'e')\n",
      "(5, 'd')\n",
      "(6, ' ')\n",
      "(7, 'A')\n",
      "(8, 'l')\n",
      "(9, 'l')\n",
      "(10, 'a')\n",
      "(11, 'm')\n"
     ]
    }
   ],
   "source": [
    "for i in enumerate('Khaled Allam'):\n",
    "    print(i)"
   ]
  },
  {
   "cell_type": "code",
   "execution_count": 4,
   "metadata": {},
   "outputs": [
    {
     "name": "stdout",
     "output_type": "stream",
     "text": [
      "0\n",
      "k1\n",
      "v1\n",
      "-----------\n",
      "1\n",
      "k2\n",
      "v2\n",
      "-----------\n",
      "2\n",
      "k3\n",
      "v3\n",
      "-----------\n"
     ]
    }
   ],
   "source": [
    "obj_list = {'k1': 'v1', 'k2': 'v2', 'k3': 'v3'};\n",
    "\n",
    "for i,k in enumerate(obj_list):\n",
    "    print(i)\n",
    "    print(k)\n",
    "    print(obj_list[k])\n",
    "    print('-----------')"
   ]
  },
  {
   "cell_type": "code",
   "execution_count": null,
   "metadata": {},
   "outputs": [],
   "source": []
  }
 ],
 "metadata": {
  "kernelspec": {
   "display_name": "base",
   "language": "python",
   "name": "python3"
  },
  "language_info": {
   "codemirror_mode": {
    "name": "ipython",
    "version": 3
   },
   "file_extension": ".py",
   "mimetype": "text/x-python",
   "name": "python",
   "nbconvert_exporter": "python",
   "pygments_lexer": "ipython3",
   "version": "3.12.7"
  }
 },
 "nbformat": 4,
 "nbformat_minor": 2
}
