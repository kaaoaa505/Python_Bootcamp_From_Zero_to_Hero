{
 "cells": [
  {
   "cell_type": "code",
   "execution_count": 23,
   "metadata": {},
   "outputs": [],
   "source": [
    "my_list_1 = ['aa', 'bb', 'cc', 00, 1, 2]\n",
    "my_list_2 = [11, 22, 33, '44']"
   ]
  },
  {
   "cell_type": "code",
   "execution_count": 24,
   "metadata": {},
   "outputs": [
    {
     "data": {
      "text/plain": [
       "[('aa', 11), ('bb', 22), ('cc', 33), (0, '44')]"
      ]
     },
     "execution_count": 24,
     "metadata": {},
     "output_type": "execute_result"
    }
   ],
   "source": [
    "list(zip(my_list_1, my_list_2))"
   ]
  },
  {
   "cell_type": "code",
   "execution_count": 25,
   "metadata": {},
   "outputs": [
    {
     "name": "stdout",
     "output_type": "stream",
     "text": [
      "('aa', 11)\n",
      "('bb', 22)\n",
      "('cc', 33)\n",
      "(0, '44')\n"
     ]
    }
   ],
   "source": [
    "for item in zip(my_list_1, my_list_2):\n",
    "    print(item)"
   ]
  },
  {
   "cell_type": "code",
   "execution_count": 26,
   "metadata": {},
   "outputs": [],
   "source": [
    "my_list_3 = ['dd', 'ee', 'ff', 'hh', 'ii', 'kk']"
   ]
  },
  {
   "cell_type": "code",
   "execution_count": 27,
   "metadata": {},
   "outputs": [
    {
     "name": "stdout",
     "output_type": "stream",
     "text": [
      "('aa', 11, 'dd')\n",
      "('bb', 22, 'ee')\n",
      "('cc', 33, 'ff')\n",
      "(0, '44', 'hh')\n"
     ]
    }
   ],
   "source": [
    "for item in zip(my_list_1, my_list_2, my_list_3):\n",
    "    print(item)"
   ]
  },
  {
   "cell_type": "code",
   "execution_count": 28,
   "metadata": {},
   "outputs": [
    {
     "name": "stdout",
     "output_type": "stream",
     "text": [
      "aa\n",
      "11\n",
      "dd\n",
      "--------\n",
      "bb\n",
      "22\n",
      "ee\n",
      "--------\n",
      "cc\n",
      "33\n",
      "ff\n",
      "--------\n",
      "0\n",
      "44\n",
      "hh\n",
      "--------\n"
     ]
    }
   ],
   "source": [
    "for a, b, c in zip(my_list_1, my_list_2, my_list_3):\n",
    "    print(a)\n",
    "    print(b)\n",
    "    print(c)\n",
    "    print('--------')"
   ]
  },
  {
   "cell_type": "code",
   "execution_count": null,
   "metadata": {},
   "outputs": [],
   "source": []
  }
 ],
 "metadata": {
  "kernelspec": {
   "display_name": "base",
   "language": "python",
   "name": "python3"
  },
  "language_info": {
   "codemirror_mode": {
    "name": "ipython",
    "version": 3
   },
   "file_extension": ".py",
   "mimetype": "text/x-python",
   "name": "python",
   "nbconvert_exporter": "python",
   "pygments_lexer": "ipython3",
   "version": "3.12.7"
  }
 },
 "nbformat": 4,
 "nbformat_minor": 2
}
