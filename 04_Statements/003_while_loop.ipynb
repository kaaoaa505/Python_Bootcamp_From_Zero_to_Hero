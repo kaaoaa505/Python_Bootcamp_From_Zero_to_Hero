{
 "cells": [
  {
   "cell_type": "code",
   "execution_count": 22,
   "metadata": {},
   "outputs": [
    {
     "name": "stdout",
     "output_type": "stream",
     "text": [
      "i:1 is less than 5\n",
      "i:2 is less than 5\n",
      "i:4 is less than 5\n",
      "i:5 is less than 5\n",
      "while loop completed!.\n",
      "i:5 is larger than or equal 5\n"
     ]
    }
   ],
   "source": [
    "i = 0\n",
    "\n",
    "\n",
    "while i < 5:\n",
    "    i += 1\n",
    "\n",
    "    if i == 3:\n",
    "        continue\n",
    "\n",
    "    print(f'i:{i} is less than 5')\n",
    "else:\n",
    "    print('while loop completed!.')\n",
    "    print(f'i:{i} is larger than or equal 5')\n"
   ]
  },
  {
   "cell_type": "code",
   "execution_count": 23,
   "metadata": {},
   "outputs": [
    {
     "name": "stdout",
     "output_type": "stream",
     "text": [
      "i:1 is less than 5\n",
      "i:2 is less than 5\n"
     ]
    }
   ],
   "source": [
    "i = 0\n",
    "\n",
    "\n",
    "while i < 5:\n",
    "    i += 1\n",
    "\n",
    "    if i == 3:\n",
    "        break\n",
    "\n",
    "    print(f'i:{i} is less than 5')\n",
    "else:\n",
    "    print('while loop completed!.')\n",
    "    print(f'i:{i} is larger than or equal 5')"
   ]
  },
  {
   "cell_type": "code",
   "execution_count": null,
   "metadata": {},
   "outputs": [],
   "source": []
  }
 ],
 "metadata": {
  "kernelspec": {
   "display_name": "base",
   "language": "python",
   "name": "python3"
  },
  "language_info": {
   "codemirror_mode": {
    "name": "ipython",
    "version": 3
   },
   "file_extension": ".py",
   "mimetype": "text/x-python",
   "name": "python",
   "nbconvert_exporter": "python",
   "pygments_lexer": "ipython3",
   "version": "3.12.7"
  }
 },
 "nbformat": 4,
 "nbformat_minor": 2
}
