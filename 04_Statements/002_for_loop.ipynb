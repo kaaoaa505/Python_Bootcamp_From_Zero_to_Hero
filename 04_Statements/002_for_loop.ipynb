{
 "cells": [
  {
   "cell_type": "code",
   "execution_count": 44,
   "metadata": {},
   "outputs": [],
   "source": [
    "my_list = [1,2,3,4,5,6,7,8,9,10]"
   ]
  },
  {
   "cell_type": "code",
   "execution_count": 45,
   "metadata": {},
   "outputs": [
    {
     "name": "stdout",
     "output_type": "stream",
     "text": [
      "1\n",
      "2\n",
      "3\n",
      "4\n",
      "5\n",
      "6\n",
      "7\n",
      "8\n",
      "9\n",
      "10\n"
     ]
    }
   ],
   "source": [
    "for item in my_list:\n",
    "    print(item)"
   ]
  },
  {
   "cell_type": "code",
   "execution_count": 46,
   "metadata": {},
   "outputs": [
    {
     "name": "stdout",
     "output_type": "stream",
     "text": [
      "test\n",
      "test\n",
      "test\n",
      "test\n",
      "test\n",
      "test\n",
      "test\n",
      "test\n",
      "test\n",
      "test\n"
     ]
    }
   ],
   "source": [
    "for _ in my_list:\n",
    "    print(\"test\")"
   ]
  },
  {
   "cell_type": "code",
   "execution_count": 47,
   "metadata": {},
   "outputs": [
    {
     "name": "stdout",
     "output_type": "stream",
     "text": [
      "1 odd\n",
      "2 even\n",
      "3 odd\n",
      "4 even\n",
      "5 odd\n",
      "6 even\n",
      "7 odd\n",
      "8 even\n",
      "9 odd\n",
      "10 even\n"
     ]
    }
   ],
   "source": [
    "for num in my_list:\n",
    "    if num % 2 == 0:\n",
    "        print(f'{num} even')\n",
    "    else:\n",
    "        print(f'{num} odd')\n"
   ]
  },
  {
   "cell_type": "code",
   "execution_count": 48,
   "metadata": {},
   "outputs": [
    {
     "name": "stdout",
     "output_type": "stream",
     "text": [
      "Sum in the loop is 1\n",
      "Sum in the loop is 3\n",
      "Sum in the loop is 6\n",
      "Sum in the loop is 10\n",
      "Sum in the loop is 15\n",
      "Sum in the loop is 21\n",
      "Sum in the loop is 28\n",
      "Sum in the loop is 36\n",
      "Sum in the loop is 45\n",
      "Sum in the loop is 55\n",
      "Final sum is 55\n"
     ]
    }
   ],
   "source": [
    "list_sum = 0\n",
    "\n",
    "for num in my_list:\n",
    "    list_sum += num\n",
    "    print(f'Sum in the loop is {list_sum}')\n",
    "\n",
    "print(f'Final sum is {list_sum}')"
   ]
  },
  {
   "cell_type": "code",
   "execution_count": 49,
   "metadata": {},
   "outputs": [
    {
     "name": "stdout",
     "output_type": "stream",
     "text": [
      "J\n",
      "u\n",
      "s\n",
      "t\n",
      " \n",
      "f\n",
      "o\n",
      "r\n",
      " \n",
      "t\n",
      "e\n",
      "s\n",
      "t\n",
      " \n",
      "v\n",
      "1\n"
     ]
    }
   ],
   "source": [
    "my_string = 'Just for test v1'\n",
    "\n",
    "for letter in my_string:\n",
    "    print(letter)"
   ]
  },
  {
   "cell_type": "code",
   "execution_count": 50,
   "metadata": {},
   "outputs": [
    {
     "name": "stdout",
     "output_type": "stream",
     "text": [
      "J\n",
      "u\n",
      "s\n",
      "t\n",
      " \n",
      "f\n",
      "o\n",
      "r\n",
      " \n",
      "t\n",
      "e\n",
      "s\n",
      "t\n",
      " \n",
      "v\n",
      "2\n"
     ]
    }
   ],
   "source": [
    "for letter in 'Just for test v2':\n",
    "    print(letter)"
   ]
  },
  {
   "cell_type": "code",
   "execution_count": 51,
   "metadata": {},
   "outputs": [
    {
     "name": "stdout",
     "output_type": "stream",
     "text": [
      "1\n",
      "2\n",
      "3\n",
      "4\n",
      "5\n"
     ]
    }
   ],
   "source": [
    "my_tuple = (1,2,3,4,5)\n",
    "\n",
    "for i in my_tuple:\n",
    "    print(i)"
   ]
  },
  {
   "cell_type": "code",
   "execution_count": 52,
   "metadata": {},
   "outputs": [
    {
     "name": "stdout",
     "output_type": "stream",
     "text": [
      "(1, 2)\n",
      "1\n",
      "2\n",
      "(3, 4)\n",
      "3\n",
      "4\n",
      "(5, 6)\n",
      "5\n",
      "6\n"
     ]
    }
   ],
   "source": [
    "my_complex_list = [(1,2), (3,4), (5,6)]\n",
    "\n",
    "for l in my_complex_list:\n",
    "    print(l)\n",
    "    for t in l:\n",
    "        print(t)"
   ]
  },
  {
   "cell_type": "code",
   "execution_count": 53,
   "metadata": {},
   "outputs": [
    {
     "name": "stdout",
     "output_type": "stream",
     "text": [
      "1\n",
      "2\n",
      "-------\n",
      "3\n",
      "4\n",
      "-------\n",
      "5\n",
      "6\n",
      "-------\n"
     ]
    }
   ],
   "source": [
    "my_complex_list = [(1,2), (3,4), (5,6)]\n",
    "\n",
    "for (a, b) in my_complex_list:\n",
    "    print(a)\n",
    "    print(b)\n",
    "    print('-------')"
   ]
  },
  {
   "cell_type": "code",
   "execution_count": 54,
   "metadata": {},
   "outputs": [
    {
     "name": "stdout",
     "output_type": "stream",
     "text": [
      "1\n",
      "2\n",
      "3\n",
      "-------\n",
      "4\n",
      "5\n",
      "6\n",
      "-------\n",
      "7\n",
      "8\n",
      "9\n",
      "-------\n"
     ]
    }
   ],
   "source": [
    "my_complex_list = [(1,2,3), (4,5,6), (7,8,9)]\n",
    "\n",
    "for a, b, c in my_complex_list:\n",
    "    print(a)\n",
    "    print(b)\n",
    "    print(c)\n",
    "    print('-------')"
   ]
  },
  {
   "cell_type": "code",
   "execution_count": 55,
   "metadata": {},
   "outputs": [
    {
     "name": "stdout",
     "output_type": "stream",
     "text": [
      "k1\n",
      "v1\n",
      "-------\n",
      "k2\n",
      "v2\n",
      "-------\n",
      "k3\n",
      "v3\n",
      "-------\n"
     ]
    }
   ],
   "source": [
    "my_dictionary = {'k1': 'v1', 'k2': 'v2', 'k3': 'v3'}\n",
    "\n",
    "for key in my_dictionary:\n",
    "    print(key)\n",
    "    print(my_dictionary[key])\n",
    "    print('-------')"
   ]
  },
  {
   "cell_type": "code",
   "execution_count": 56,
   "metadata": {},
   "outputs": [
    {
     "name": "stdout",
     "output_type": "stream",
     "text": [
      "k1\n",
      "v1\n",
      "-------\n",
      "k2\n",
      "v2\n",
      "-------\n",
      "k3\n",
      "v3\n",
      "-------\n"
     ]
    }
   ],
   "source": [
    "my_dictionary = {'k1': 'v1', 'k2': 'v2', 'k3': 'v3'}\n",
    "\n",
    "for k,v in my_dictionary.items():\n",
    "    print(k)\n",
    "    print(v)\n",
    "    print('-------')"
   ]
  },
  {
   "cell_type": "code",
   "execution_count": 57,
   "metadata": {},
   "outputs": [
    {
     "name": "stdout",
     "output_type": "stream",
     "text": [
      "v1\n",
      "-------\n",
      "v2\n",
      "-------\n",
      "v3\n",
      "-------\n"
     ]
    }
   ],
   "source": [
    "my_dictionary = {'k1': 'v1', 'k2': 'v2', 'k3': 'v3'}\n",
    "\n",
    "for v in my_dictionary.values():\n",
    "    print(v)\n",
    "    print('-------')"
   ]
  },
  {
   "cell_type": "code",
   "execution_count": 59,
   "metadata": {},
   "outputs": [
    {
     "name": "stdout",
     "output_type": "stream",
     "text": [
      "k1\n",
      "-------\n",
      "k2\n",
      "-------\n",
      "k3\n",
      "-------\n"
     ]
    }
   ],
   "source": [
    "my_dictionary = {'k1': 'v1', 'k2': 'v2', 'k3': 'v3'}\n",
    "\n",
    "for k in my_dictionary.keys():\n",
    "    print(k)\n",
    "    print('-------')"
   ]
  },
  {
   "cell_type": "code",
   "execution_count": null,
   "metadata": {},
   "outputs": [],
   "source": []
  }
 ],
 "metadata": {
  "kernelspec": {
   "display_name": "base",
   "language": "python",
   "name": "python3"
  },
  "language_info": {
   "codemirror_mode": {
    "name": "ipython",
    "version": 3
   },
   "file_extension": ".py",
   "mimetype": "text/x-python",
   "name": "python",
   "nbconvert_exporter": "python",
   "pygments_lexer": "ipython3",
   "version": "3.12.7"
  }
 },
 "nbformat": 4,
 "nbformat_minor": 2
}
