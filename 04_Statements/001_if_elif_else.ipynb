{
 "cells": [
  {
   "cell_type": "code",
   "execution_count": 13,
   "metadata": {},
   "outputs": [
    {
     "name": "stdout",
     "output_type": "stream",
     "text": [
      "This is a true value\n"
     ]
    }
   ],
   "source": [
    "if True:\n",
    "    print('This is a true value')"
   ]
  },
  {
   "cell_type": "code",
   "execution_count": 14,
   "metadata": {},
   "outputs": [
    {
     "name": "stdout",
     "output_type": "stream",
     "text": [
      "Else value printed!.\n"
     ]
    }
   ],
   "source": [
    "if False:\n",
    "    print(' - Will Never - print false values in if condition')\n",
    "else:\n",
    "    print('Else value printed!.')"
   ]
  },
  {
   "cell_type": "code",
   "execution_count": 15,
   "metadata": {},
   "outputs": [
    {
     "name": "stdout",
     "output_type": "stream",
     "text": [
      "Result have a true value\n"
     ]
    }
   ],
   "source": [
    "result = True\n",
    "\n",
    "if result == True:\n",
    "    print('Result have a true value')\n"
   ]
  },
  {
   "cell_type": "code",
   "execution_count": 16,
   "metadata": {},
   "outputs": [
    {
     "name": "stdout",
     "output_type": "stream",
     "text": [
      "Target Version is v2\n"
     ]
    }
   ],
   "source": [
    "target = 'v2'\n",
    "\n",
    "if target == 'v1':\n",
    "    print('Target Version is v1')\n",
    "elif target == 'v2':\n",
    "    print('Target Version is v2')\n",
    "elif target == 'v3':\n",
    "    print('Target Version is v3')\n",
    "else:\n",
    "    print('Target Version is not found')\n"
   ]
  },
  {
   "cell_type": "code",
   "execution_count": null,
   "metadata": {},
   "outputs": [],
   "source": []
  }
 ],
 "metadata": {
  "kernelspec": {
   "display_name": "base",
   "language": "python",
   "name": "python3"
  },
  "language_info": {
   "codemirror_mode": {
    "name": "ipython",
    "version": 3
   },
   "file_extension": ".py",
   "mimetype": "text/x-python",
   "name": "python",
   "nbconvert_exporter": "python",
   "pygments_lexer": "ipython3",
   "version": "3.12.7"
  }
 },
 "nbformat": 4,
 "nbformat_minor": 2
}
