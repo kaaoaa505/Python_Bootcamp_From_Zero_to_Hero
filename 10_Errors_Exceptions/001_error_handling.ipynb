{
 "cells": [
  {
   "cell_type": "code",
   "execution_count": 22,
   "metadata": {},
   "outputs": [],
   "source": [
    "def add(a,b):\n",
    "    print(a+b)"
   ]
  },
  {
   "cell_type": "code",
   "execution_count": 23,
   "metadata": {},
   "outputs": [
    {
     "name": "stdout",
     "output_type": "stream",
     "text": [
      "3\n"
     ]
    }
   ],
   "source": [
    "add(1,2)"
   ]
  },
  {
   "cell_type": "code",
   "execution_count": 24,
   "metadata": {},
   "outputs": [],
   "source": [
    "a = 1"
   ]
  },
  {
   "cell_type": "code",
   "execution_count": 25,
   "metadata": {},
   "outputs": [],
   "source": [
    "b = input('Please add your number...')"
   ]
  },
  {
   "cell_type": "code",
   "execution_count": 26,
   "metadata": {},
   "outputs": [
    {
     "name": "stdout",
     "output_type": "stream",
     "text": [
      "Incorrect inputs detected!.\n"
     ]
    }
   ],
   "source": [
    "try:\n",
    "    add(a,b)\n",
    "except:\n",
    "    print('Incorrect inputs detected!.')"
   ]
  },
  {
   "cell_type": "code",
   "execution_count": 27,
   "metadata": {},
   "outputs": [
    {
     "name": "stdout",
     "output_type": "stream",
     "text": [
      "Incorrect type from inputs detected!.\n"
     ]
    }
   ],
   "source": [
    "try:\n",
    "    add(a,b)\n",
    "except TypeError:\n",
    "    print('Incorrect type from inputs detected!.')\n",
    "except:\n",
    "    print('Incorrect inputs detected!.')"
   ]
  },
  {
   "cell_type": "code",
   "execution_count": 30,
   "metadata": {},
   "outputs": [
    {
     "name": "stdout",
     "output_type": "stream",
     "text": [
      "file not found.\n",
      "finally always run, no matter what!.\n"
     ]
    }
   ],
   "source": [
    "try:\n",
    "    f = open('test.txt', 'r')\n",
    "    f.write('no data will be written, because file opened with read only!.')\n",
    "except TypeError:\n",
    "    print('type error here.')\n",
    "except OSError:\n",
    "    print('file not found.')\n",
    "except:\n",
    "    print('general error here.')\n",
    "finally:\n",
    "    print('finally always run, no matter what!.')"
   ]
  },
  {
   "cell_type": "code",
   "execution_count": 31,
   "metadata": {},
   "outputs": [
    {
     "name": "stdout",
     "output_type": "stream",
     "text": [
      "579\n",
      "No errors detected, Everything is fine.\n"
     ]
    }
   ],
   "source": [
    "try:\n",
    "    add(123,456)\n",
    "except:\n",
    "    print('Incorrect inputs detected!.')\n",
    "else:\n",
    "    print('No errors detected, Everything is fine.')"
   ]
  },
  {
   "cell_type": "code",
   "execution_count": 32,
   "metadata": {},
   "outputs": [
    {
     "name": "stdout",
     "output_type": "stream",
     "text": [
      "Incorrect inputs detected!.\n"
     ]
    }
   ],
   "source": [
    "try:\n",
    "    add(123,'456')\n",
    "except:\n",
    "    print('Incorrect inputs detected!.')\n",
    "else:\n",
    "    print('No errors detected, Everything is fine.')"
   ]
  },
  {
   "cell_type": "code",
   "execution_count": null,
   "metadata": {},
   "outputs": [],
   "source": [
    "def AskForInt():\n",
    "    try:\n",
    "        result = int(input('Please type a number...'))\n",
    "    except:\n",
    "        print('Invalid Number.')\n",
    "    else:\n",
    "        print(result)\n",
    "    finally:\n",
    "        print('End of try/except/finally logic!.')"
   ]
  },
  {
   "cell_type": "code",
   "execution_count": 47,
   "metadata": {},
   "outputs": [
    {
     "name": "stdout",
     "output_type": "stream",
     "text": [
      "Invalid Number.\n",
      "End of try/except/finally logic!.\n"
     ]
    }
   ],
   "source": [
    "AskForInt()"
   ]
  },
  {
   "cell_type": "code",
   "execution_count": 48,
   "metadata": {},
   "outputs": [],
   "source": [
    "def AskForIntV2():\n",
    "    while True:\n",
    "        try:\n",
    "            result = int(input('Please type a number...'))\n",
    "        except:\n",
    "            print('Invalid Number.')\n",
    "            continue\n",
    "        else:\n",
    "            print(result)\n",
    "            break\n",
    "        finally:\n",
    "            print('End of try/except/finally logic!.')"
   ]
  },
  {
   "cell_type": "code",
   "execution_count": 49,
   "metadata": {},
   "outputs": [
    {
     "name": "stdout",
     "output_type": "stream",
     "text": [
      "Invalid Number.\n",
      "End of try/except/finally logic!.\n",
      "Invalid Number.\n",
      "End of try/except/finally logic!.\n",
      "4564654654564\n",
      "End of try/except/finally logic!.\n"
     ]
    }
   ],
   "source": [
    "AskForIntV2()\n"
   ]
  }
 ],
 "metadata": {
  "kernelspec": {
   "display_name": "base",
   "language": "python",
   "name": "python3"
  },
  "language_info": {
   "codemirror_mode": {
    "name": "ipython",
    "version": 3
   },
   "file_extension": ".py",
   "mimetype": "text/x-python",
   "name": "python",
   "nbconvert_exporter": "python",
   "pygments_lexer": "ipython3",
   "version": "3.12.7"
  }
 },
 "nbformat": 4,
 "nbformat_minor": 2
}
